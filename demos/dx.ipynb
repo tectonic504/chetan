{
 "cells": [
  {
   "cell_type": "markdown",
   "metadata": {},
   "source": [
    "## Set up agent system\n",
    "### Define agent architecture, language model"
   ]
  },
  {
   "cell_type": "code",
   "execution_count": null,
   "metadata": {},
   "outputs": [],
   "source": [
    "from chetan.modules.rec import ActionRecommendation\n",
    "from chetan.modules.memory import SimpleKVMemory\n",
    "\n",
    "from chetan.agent import AgentLoop\n",
    "from chetan.lm.openai import OpenAILM\n",
    "\n",
    "action_rec = ActionRecommendation()\n",
    "kv_mem = SimpleKVMemory(k=4)\n",
    "\n",
    "# Sequentially use the agent modules\n",
    "DefaultAgent = AgentLoop().use(\n",
    "    action_rec,\n",
    "    kv_mem\n",
    ") \n",
    "\n"
   ]
  },
  {
   "cell_type": "markdown",
   "metadata": {
    "notebookRunGroups": {
     "groupValue": "2"
    }
   },
   "source": [
    "### Load lms, rules, entities, systems from a yaml config"
   ]
  },
  {
   "cell_type": "code",
   "execution_count": null,
   "metadata": {},
   "outputs": [
    {
     "ename": "TypeError",
     "evalue": "cannot unpack non-iterable NoneType object",
     "output_type": "error",
     "traceback": [
      "\u001b[0;31m---------------------------------------------------------------------------\u001b[0m",
      "\u001b[0;31mTypeError\u001b[0m                                 Traceback (most recent call last)",
      "Cell \u001b[0;32mIn[2], line 3\u001b[0m\n\u001b[1;32m      1\u001b[0m \u001b[38;5;28;01mfrom\u001b[39;00m\u001b[38;5;250m \u001b[39m\u001b[38;5;21;01mchetan\u001b[39;00m\u001b[38;5;21;01m.\u001b[39;00m\u001b[38;5;21;01mutils\u001b[39;00m\u001b[38;5;250m \u001b[39m\u001b[38;5;28;01mimport\u001b[39;00m load_yaml_config\n\u001b[0;32m----> 3\u001b[0m lms, rules, entities, systems \u001b[38;5;241m=\u001b[39m load_yaml_config(\u001b[38;5;124m\"\u001b[39m\u001b[38;5;124m./cfg.yaml\u001b[39m\u001b[38;5;124m\"\u001b[39m, {\u001b[38;5;124m\"\u001b[39m\u001b[38;5;124mdefault\u001b[39m\u001b[38;5;124m\"\u001b[39m: DefaultAgent})\n",
      "\u001b[0;31mTypeError\u001b[0m: cannot unpack non-iterable NoneType object"
     ]
    }
   ],
   "source": [
    "from chetan.utils.cfg import load_yaml_config\n",
    "\n",
    "lms, rules, entities, systems = load_yaml_config(\"./cfg.yaml\", {\"default\": DefaultAgent})"
   ]
  },
  {
   "cell_type": "markdown",
   "metadata": {},
   "source": [
    "### Define an evaluator"
   ]
  },
  {
   "cell_type": "code",
   "execution_count": null,
   "metadata": {},
   "outputs": [
    {
     "ename": "ImportError",
     "evalue": "cannot import name 'Evaluator' from 'chetan.eval' (/Users/arjo/Work/snayu/oss/chetan/src/chetan/eval/__init__.py)",
     "output_type": "error",
     "traceback": [
      "\u001b[0;31m---------------------------------------------------------------------------\u001b[0m",
      "\u001b[0;31mImportError\u001b[0m                               Traceback (most recent call last)",
      "Cell \u001b[0;32mIn[3], line 1\u001b[0m\n\u001b[0;32m----> 1\u001b[0m \u001b[38;5;28;01mfrom\u001b[39;00m\u001b[38;5;250m \u001b[39m\u001b[38;5;21;01mchetan\u001b[39;00m\u001b[38;5;21;01m.\u001b[39;00m\u001b[38;5;21;01meval\u001b[39;00m\u001b[38;5;250m \u001b[39m\u001b[38;5;28;01mimport\u001b[39;00m Evaluator, eval_rule, eval_process\n\u001b[1;32m      3\u001b[0m \u001b[38;5;28;01mclass\u001b[39;00m\u001b[38;5;250m \u001b[39m\u001b[38;5;21;01mSystemEvaluator\u001b[39;00m(Evaluator):\n\u001b[1;32m      5\u001b[0m     \u001b[38;5;129m@eval_rule\u001b[39m(rules[\u001b[38;5;124m\"\u001b[39m\u001b[38;5;124mcomprehensive_search\u001b[39m\u001b[38;5;124m\"\u001b[39m])\n\u001b[1;32m      6\u001b[0m     \u001b[38;5;28;01mdef\u001b[39;00m\u001b[38;5;250m \u001b[39m\u001b[38;5;21mevaluate_source_validation\u001b[39m(\u001b[38;5;28mself\u001b[39m, persona, context):\n",
      "\u001b[0;31mImportError\u001b[0m: cannot import name 'Evaluator' from 'chetan.eval' (/Users/arjo/Work/snayu/oss/chetan/src/chetan/eval/__init__.py)"
     ]
    }
   ],
   "source": [
    "from chetan.eval import Evaluator, eval_rule, eval_process\n",
    "\n",
    "class SystemEvaluator(Evaluator):\n",
    "    \n",
    "    @eval_rule(rules[\"comprehensive_search\"])\n",
    "    def evaluate_source_validation(self, persona, context):\n",
    "        msg: str = context.get_last_message()\n",
    "        \n",
    "        # find any links or regex patterns\n",
    "        \n",
    "        return 0.5\n",
    "     \n",
    "    @eval_process\n",
    "    def evaluate_processing(self):\n",
    "        pass\n",
    "    \n",
    "    "
   ]
  },
  {
   "cell_type": "markdown",
   "metadata": {},
   "source": [
    "### Initialize Orchestrator"
   ]
  },
  {
   "cell_type": "code",
   "execution_count": null,
   "metadata": {},
   "outputs": [],
   "source": [
    "from chetan.orchestrate.chat import ChatOrchestrator\n",
    "\n",
    "chat = ChatOrchestrator(systems[\"research_group\"])\n",
    "# chat = ChatOrchestrator(systems[0], SystemEvaluator())"
   ]
  },
  {
   "cell_type": "markdown",
   "metadata": {},
   "source": [
    "### Orchestrate the agents"
   ]
  },
  {
   "cell_type": "code",
   "execution_count": null,
   "metadata": {},
   "outputs": [],
   "source": [
    "await chat.invoke_terminal(invoker=\"arjo\", message=\"What are the best practices for conducting online research?\")\n",
    "\n",
    "# Or use invoke iterator to get invocation items themselves for further processing\n",
    "invocation = await chat.invoke(invoker=\"arjo\", message=\"What are the best practices for conducting online research?\")\n",
    "\n",
    "for item in invocation:\n",
    "    print(item)\n",
    "    # Process the item further, e.g., send it to another function or store it\n",
    "    # process_item(item)"
   ]
  },
  {
   "cell_type": "markdown",
   "metadata": {},
   "source": [
    "### Push orchestrator to a cloud environment"
   ]
  },
  {
   "cell_type": "code",
   "execution_count": null,
   "metadata": {},
   "outputs": [],
   "source": [
    "from snayu import Snayu\n",
    "\n",
    "client = Snayu()\n",
    "\n",
    "client.push(chat)"
   ]
  }
 ],
 "metadata": {
  "kernelspec": {
   "display_name": ".venv",
   "language": "python",
   "name": "python3"
  },
  "language_info": {
   "codemirror_mode": {
    "name": "ipython",
    "version": 3
   },
   "file_extension": ".py",
   "mimetype": "text/x-python",
   "name": "python",
   "nbconvert_exporter": "python",
   "pygments_lexer": "ipython3",
   "version": "3.12.7"
  }
 },
 "nbformat": 4,
 "nbformat_minor": 2
}
